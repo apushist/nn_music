{
 "cells": [
  {
   "cell_type": "code",
   "execution_count": 5,
   "id": "ffb91bed",
   "metadata": {},
   "outputs": [],
   "source": [
    "\n",
    "from tensorflow.keras.datasets import fashion_mnist\n",
    "from tensorflow.keras.utils import to_categorical\n",
    "from sklearn.metrics import confusion_matrix, classification_report\n",
    "import numpy as np\n",
    "from tensorflow.keras.layers import Conv2D,MaxPooling2D, Flatten, Dense, Input\n",
    "from tensorflow.keras import Model"
   ]
  },
  {
   "cell_type": "code",
   "execution_count": 2,
   "id": "17b5f2f4",
   "metadata": {},
   "outputs": [],
   "source": [
    "(x_train2, y_train2), (x_test2, y_test2) = fashion_mnist.load_data()\n",
    "num_classes = y_train2.max()-y_train2.min()+1\n",
    "x_train2 = x_train2.astype(\"float32\") / 255\n",
    "x_test2 = x_test2.astype(\"float32\") / 255\n",
    "y_train2 = to_categorical(y_train2, num_classes)\n",
    "y_test2 = to_categorical(y_test2, num_classes)"
   ]
  },
  {
   "cell_type": "code",
   "execution_count": 7,
   "id": "ed1eb092",
   "metadata": {},
   "outputs": [
    {
     "data": {
      "text/html": [
       "<pre style=\"white-space:pre;overflow-x:auto;line-height:normal;font-family:Menlo,'DejaVu Sans Mono',consolas,'Courier New',monospace\"><span style=\"font-weight: bold\">Model: \"functional_1\"</span>\n",
       "</pre>\n"
      ],
      "text/plain": [
       "\u001b[1mModel: \"functional_1\"\u001b[0m\n"
      ]
     },
     "metadata": {},
     "output_type": "display_data"
    },
    {
     "data": {
      "text/html": [
       "<pre style=\"white-space:pre;overflow-x:auto;line-height:normal;font-family:Menlo,'DejaVu Sans Mono',consolas,'Courier New',monospace\">┏━━━━━━━━━━━━━━━━━━━━━━━━━━━━━━━━━┳━━━━━━━━━━━━━━━━━━━━━━━━┳━━━━━━━━━━━━━━━┓\n",
       "┃<span style=\"font-weight: bold\"> Layer (type)                    </span>┃<span style=\"font-weight: bold\"> Output Shape           </span>┃<span style=\"font-weight: bold\">       Param # </span>┃\n",
       "┡━━━━━━━━━━━━━━━━━━━━━━━━━━━━━━━━━╇━━━━━━━━━━━━━━━━━━━━━━━━╇━━━━━━━━━━━━━━━┩\n",
       "│ input_layer_2 (<span style=\"color: #0087ff; text-decoration-color: #0087ff\">InputLayer</span>)      │ (<span style=\"color: #00d7ff; text-decoration-color: #00d7ff\">None</span>, <span style=\"color: #00af00; text-decoration-color: #00af00\">28</span>, <span style=\"color: #00af00; text-decoration-color: #00af00\">28</span>, <span style=\"color: #00af00; text-decoration-color: #00af00\">1</span>)      │             <span style=\"color: #00af00; text-decoration-color: #00af00\">0</span> │\n",
       "├─────────────────────────────────┼────────────────────────┼───────────────┤\n",
       "│ conv2d_8 (<span style=\"color: #0087ff; text-decoration-color: #0087ff\">Conv2D</span>)               │ (<span style=\"color: #00d7ff; text-decoration-color: #00d7ff\">None</span>, <span style=\"color: #00af00; text-decoration-color: #00af00\">26</span>, <span style=\"color: #00af00; text-decoration-color: #00af00\">26</span>, <span style=\"color: #00af00; text-decoration-color: #00af00\">32</span>)     │           <span style=\"color: #00af00; text-decoration-color: #00af00\">320</span> │\n",
       "├─────────────────────────────────┼────────────────────────┼───────────────┤\n",
       "│ max_pooling2d_6 (<span style=\"color: #0087ff; text-decoration-color: #0087ff\">MaxPooling2D</span>)  │ (<span style=\"color: #00d7ff; text-decoration-color: #00d7ff\">None</span>, <span style=\"color: #00af00; text-decoration-color: #00af00\">13</span>, <span style=\"color: #00af00; text-decoration-color: #00af00\">13</span>, <span style=\"color: #00af00; text-decoration-color: #00af00\">32</span>)     │             <span style=\"color: #00af00; text-decoration-color: #00af00\">0</span> │\n",
       "├─────────────────────────────────┼────────────────────────┼───────────────┤\n",
       "│ conv2d_9 (<span style=\"color: #0087ff; text-decoration-color: #0087ff\">Conv2D</span>)               │ (<span style=\"color: #00d7ff; text-decoration-color: #00d7ff\">None</span>, <span style=\"color: #00af00; text-decoration-color: #00af00\">11</span>, <span style=\"color: #00af00; text-decoration-color: #00af00\">11</span>, <span style=\"color: #00af00; text-decoration-color: #00af00\">64</span>)     │        <span style=\"color: #00af00; text-decoration-color: #00af00\">18,496</span> │\n",
       "├─────────────────────────────────┼────────────────────────┼───────────────┤\n",
       "│ conv2d_10 (<span style=\"color: #0087ff; text-decoration-color: #0087ff\">Conv2D</span>)              │ (<span style=\"color: #00d7ff; text-decoration-color: #00d7ff\">None</span>, <span style=\"color: #00af00; text-decoration-color: #00af00\">9</span>, <span style=\"color: #00af00; text-decoration-color: #00af00\">9</span>, <span style=\"color: #00af00; text-decoration-color: #00af00\">64</span>)       │        <span style=\"color: #00af00; text-decoration-color: #00af00\">36,928</span> │\n",
       "├─────────────────────────────────┼────────────────────────┼───────────────┤\n",
       "│ max_pooling2d_7 (<span style=\"color: #0087ff; text-decoration-color: #0087ff\">MaxPooling2D</span>)  │ (<span style=\"color: #00d7ff; text-decoration-color: #00d7ff\">None</span>, <span style=\"color: #00af00; text-decoration-color: #00af00\">4</span>, <span style=\"color: #00af00; text-decoration-color: #00af00\">4</span>, <span style=\"color: #00af00; text-decoration-color: #00af00\">64</span>)       │             <span style=\"color: #00af00; text-decoration-color: #00af00\">0</span> │\n",
       "├─────────────────────────────────┼────────────────────────┼───────────────┤\n",
       "│ conv2d_11 (<span style=\"color: #0087ff; text-decoration-color: #0087ff\">Conv2D</span>)              │ (<span style=\"color: #00d7ff; text-decoration-color: #00d7ff\">None</span>, <span style=\"color: #00af00; text-decoration-color: #00af00\">2</span>, <span style=\"color: #00af00; text-decoration-color: #00af00\">2</span>, <span style=\"color: #00af00; text-decoration-color: #00af00\">128</span>)      │        <span style=\"color: #00af00; text-decoration-color: #00af00\">73,856</span> │\n",
       "├─────────────────────────────────┼────────────────────────┼───────────────┤\n",
       "│ max_pooling2d_8 (<span style=\"color: #0087ff; text-decoration-color: #0087ff\">MaxPooling2D</span>)  │ (<span style=\"color: #00d7ff; text-decoration-color: #00d7ff\">None</span>, <span style=\"color: #00af00; text-decoration-color: #00af00\">1</span>, <span style=\"color: #00af00; text-decoration-color: #00af00\">1</span>, <span style=\"color: #00af00; text-decoration-color: #00af00\">128</span>)      │             <span style=\"color: #00af00; text-decoration-color: #00af00\">0</span> │\n",
       "├─────────────────────────────────┼────────────────────────┼───────────────┤\n",
       "│ flatten_2 (<span style=\"color: #0087ff; text-decoration-color: #0087ff\">Flatten</span>)             │ (<span style=\"color: #00d7ff; text-decoration-color: #00d7ff\">None</span>, <span style=\"color: #00af00; text-decoration-color: #00af00\">128</span>)            │             <span style=\"color: #00af00; text-decoration-color: #00af00\">0</span> │\n",
       "├─────────────────────────────────┼────────────────────────┼───────────────┤\n",
       "│ dense_2 (<span style=\"color: #0087ff; text-decoration-color: #0087ff\">Dense</span>)                 │ (<span style=\"color: #00d7ff; text-decoration-color: #00d7ff\">None</span>, <span style=\"color: #00af00; text-decoration-color: #00af00\">10</span>)             │         <span style=\"color: #00af00; text-decoration-color: #00af00\">1,290</span> │\n",
       "└─────────────────────────────────┴────────────────────────┴───────────────┘\n",
       "</pre>\n"
      ],
      "text/plain": [
       "┏━━━━━━━━━━━━━━━━━━━━━━━━━━━━━━━━━┳━━━━━━━━━━━━━━━━━━━━━━━━┳━━━━━━━━━━━━━━━┓\n",
       "┃\u001b[1m \u001b[0m\u001b[1mLayer (type)                   \u001b[0m\u001b[1m \u001b[0m┃\u001b[1m \u001b[0m\u001b[1mOutput Shape          \u001b[0m\u001b[1m \u001b[0m┃\u001b[1m \u001b[0m\u001b[1m      Param #\u001b[0m\u001b[1m \u001b[0m┃\n",
       "┡━━━━━━━━━━━━━━━━━━━━━━━━━━━━━━━━━╇━━━━━━━━━━━━━━━━━━━━━━━━╇━━━━━━━━━━━━━━━┩\n",
       "│ input_layer_2 (\u001b[38;5;33mInputLayer\u001b[0m)      │ (\u001b[38;5;45mNone\u001b[0m, \u001b[38;5;34m28\u001b[0m, \u001b[38;5;34m28\u001b[0m, \u001b[38;5;34m1\u001b[0m)      │             \u001b[38;5;34m0\u001b[0m │\n",
       "├─────────────────────────────────┼────────────────────────┼───────────────┤\n",
       "│ conv2d_8 (\u001b[38;5;33mConv2D\u001b[0m)               │ (\u001b[38;5;45mNone\u001b[0m, \u001b[38;5;34m26\u001b[0m, \u001b[38;5;34m26\u001b[0m, \u001b[38;5;34m32\u001b[0m)     │           \u001b[38;5;34m320\u001b[0m │\n",
       "├─────────────────────────────────┼────────────────────────┼───────────────┤\n",
       "│ max_pooling2d_6 (\u001b[38;5;33mMaxPooling2D\u001b[0m)  │ (\u001b[38;5;45mNone\u001b[0m, \u001b[38;5;34m13\u001b[0m, \u001b[38;5;34m13\u001b[0m, \u001b[38;5;34m32\u001b[0m)     │             \u001b[38;5;34m0\u001b[0m │\n",
       "├─────────────────────────────────┼────────────────────────┼───────────────┤\n",
       "│ conv2d_9 (\u001b[38;5;33mConv2D\u001b[0m)               │ (\u001b[38;5;45mNone\u001b[0m, \u001b[38;5;34m11\u001b[0m, \u001b[38;5;34m11\u001b[0m, \u001b[38;5;34m64\u001b[0m)     │        \u001b[38;5;34m18,496\u001b[0m │\n",
       "├─────────────────────────────────┼────────────────────────┼───────────────┤\n",
       "│ conv2d_10 (\u001b[38;5;33mConv2D\u001b[0m)              │ (\u001b[38;5;45mNone\u001b[0m, \u001b[38;5;34m9\u001b[0m, \u001b[38;5;34m9\u001b[0m, \u001b[38;5;34m64\u001b[0m)       │        \u001b[38;5;34m36,928\u001b[0m │\n",
       "├─────────────────────────────────┼────────────────────────┼───────────────┤\n",
       "│ max_pooling2d_7 (\u001b[38;5;33mMaxPooling2D\u001b[0m)  │ (\u001b[38;5;45mNone\u001b[0m, \u001b[38;5;34m4\u001b[0m, \u001b[38;5;34m4\u001b[0m, \u001b[38;5;34m64\u001b[0m)       │             \u001b[38;5;34m0\u001b[0m │\n",
       "├─────────────────────────────────┼────────────────────────┼───────────────┤\n",
       "│ conv2d_11 (\u001b[38;5;33mConv2D\u001b[0m)              │ (\u001b[38;5;45mNone\u001b[0m, \u001b[38;5;34m2\u001b[0m, \u001b[38;5;34m2\u001b[0m, \u001b[38;5;34m128\u001b[0m)      │        \u001b[38;5;34m73,856\u001b[0m │\n",
       "├─────────────────────────────────┼────────────────────────┼───────────────┤\n",
       "│ max_pooling2d_8 (\u001b[38;5;33mMaxPooling2D\u001b[0m)  │ (\u001b[38;5;45mNone\u001b[0m, \u001b[38;5;34m1\u001b[0m, \u001b[38;5;34m1\u001b[0m, \u001b[38;5;34m128\u001b[0m)      │             \u001b[38;5;34m0\u001b[0m │\n",
       "├─────────────────────────────────┼────────────────────────┼───────────────┤\n",
       "│ flatten_2 (\u001b[38;5;33mFlatten\u001b[0m)             │ (\u001b[38;5;45mNone\u001b[0m, \u001b[38;5;34m128\u001b[0m)            │             \u001b[38;5;34m0\u001b[0m │\n",
       "├─────────────────────────────────┼────────────────────────┼───────────────┤\n",
       "│ dense_2 (\u001b[38;5;33mDense\u001b[0m)                 │ (\u001b[38;5;45mNone\u001b[0m, \u001b[38;5;34m10\u001b[0m)             │         \u001b[38;5;34m1,290\u001b[0m │\n",
       "└─────────────────────────────────┴────────────────────────┴───────────────┘\n"
      ]
     },
     "metadata": {},
     "output_type": "display_data"
    },
    {
     "data": {
      "text/html": [
       "<pre style=\"white-space:pre;overflow-x:auto;line-height:normal;font-family:Menlo,'DejaVu Sans Mono',consolas,'Courier New',monospace\"><span style=\"font-weight: bold\"> Total params: </span><span style=\"color: #00af00; text-decoration-color: #00af00\">130,890</span> (511.29 KB)\n",
       "</pre>\n"
      ],
      "text/plain": [
       "\u001b[1m Total params: \u001b[0m\u001b[38;5;34m130,890\u001b[0m (511.29 KB)\n"
      ]
     },
     "metadata": {},
     "output_type": "display_data"
    },
    {
     "data": {
      "text/html": [
       "<pre style=\"white-space:pre;overflow-x:auto;line-height:normal;font-family:Menlo,'DejaVu Sans Mono',consolas,'Courier New',monospace\"><span style=\"font-weight: bold\"> Trainable params: </span><span style=\"color: #00af00; text-decoration-color: #00af00\">130,890</span> (511.29 KB)\n",
       "</pre>\n"
      ],
      "text/plain": [
       "\u001b[1m Trainable params: \u001b[0m\u001b[38;5;34m130,890\u001b[0m (511.29 KB)\n"
      ]
     },
     "metadata": {},
     "output_type": "display_data"
    },
    {
     "data": {
      "text/html": [
       "<pre style=\"white-space:pre;overflow-x:auto;line-height:normal;font-family:Menlo,'DejaVu Sans Mono',consolas,'Courier New',monospace\"><span style=\"font-weight: bold\"> Non-trainable params: </span><span style=\"color: #00af00; text-decoration-color: #00af00\">0</span> (0.00 B)\n",
       "</pre>\n"
      ],
      "text/plain": [
       "\u001b[1m Non-trainable params: \u001b[0m\u001b[38;5;34m0\u001b[0m (0.00 B)\n"
      ]
     },
     "metadata": {},
     "output_type": "display_data"
    }
   ],
   "source": [
    "inputs = Input(shape=(28, 28, 1))\n",
    "x = Conv2D(filters=32, kernel_size=3, activation=\"relu\")(inputs)\n",
    "x = MaxPooling2D(pool_size=2)(x)\n",
    "x = Conv2D(filters=64, kernel_size=3, activation=\"relu\")(x)\n",
    "x = Conv2D(filters=64, kernel_size=3, activation=\"relu\")(x)\n",
    "x = MaxPooling2D(pool_size=2)(x)\n",
    "x = Conv2D(filters=128, kernel_size=3, activation=\"relu\")(x)\n",
    "x = MaxPooling2D(pool_size=2)(x)\n",
    "x = Flatten()(x)\n",
    "outputs = Dense(10, activation=\"softmax\")(x)\n",
    "model = Model(inputs=inputs, outputs=outputs)\n",
    "model.summary()\n"
   ]
  },
  {
   "cell_type": "code",
   "execution_count": 8,
   "id": "5e986689",
   "metadata": {},
   "outputs": [
    {
     "name": "stdout",
     "output_type": "stream",
     "text": [
      "Epoch 1/20\n",
      "\u001b[1m352/352\u001b[0m \u001b[32m━━━━━━━━━━━━━━━━━━━━\u001b[0m\u001b[37m\u001b[0m \u001b[1m44s\u001b[0m 109ms/step - accuracy: 0.6537 - loss: 0.9826 - precision: 0.8108 - recall: 0.4989 - val_accuracy: 0.8067 - val_loss: 0.5032 - val_precision: 0.8696 - val_recall: 0.7449\n",
      "Epoch 2/20\n",
      "\u001b[1m352/352\u001b[0m \u001b[32m━━━━━━━━━━━━━━━━━━━━\u001b[0m\u001b[37m\u001b[0m \u001b[1m37s\u001b[0m 105ms/step - accuracy: 0.8351 - loss: 0.4548 - precision: 0.8811 - recall: 0.7872 - val_accuracy: 0.8607 - val_loss: 0.3849 - val_precision: 0.8922 - val_recall: 0.8281\n",
      "Epoch 3/20\n",
      "\u001b[1m352/352\u001b[0m \u001b[32m━━━━━━━━━━━━━━━━━━━━\u001b[0m\u001b[37m\u001b[0m \u001b[1m38s\u001b[0m 107ms/step - accuracy: 0.8669 - loss: 0.3695 - precision: 0.8947 - recall: 0.8375 - val_accuracy: 0.8717 - val_loss: 0.3520 - val_precision: 0.8967 - val_recall: 0.8507\n",
      "Epoch 4/20\n",
      "\u001b[1m352/352\u001b[0m \u001b[32m━━━━━━━━━━━━━━━━━━━━\u001b[0m\u001b[37m\u001b[0m \u001b[1m35s\u001b[0m 99ms/step - accuracy: 0.8832 - loss: 0.3187 - precision: 0.9051 - recall: 0.8638 - val_accuracy: 0.8843 - val_loss: 0.3142 - val_precision: 0.9034 - val_recall: 0.8693\n",
      "Epoch 5/20\n",
      "\u001b[1m352/352\u001b[0m \u001b[32m━━━━━━━━━━━━━━━━━━━━\u001b[0m\u001b[37m\u001b[0m \u001b[1m36s\u001b[0m 102ms/step - accuracy: 0.8929 - loss: 0.2910 - precision: 0.9113 - recall: 0.8762 - val_accuracy: 0.8884 - val_loss: 0.3060 - val_precision: 0.9087 - val_recall: 0.8720\n",
      "Epoch 6/20\n",
      "\u001b[1m352/352\u001b[0m \u001b[32m━━━━━━━━━━━━━━━━━━━━\u001b[0m\u001b[37m\u001b[0m \u001b[1m36s\u001b[0m 101ms/step - accuracy: 0.9013 - loss: 0.2710 - precision: 0.9178 - recall: 0.8866 - val_accuracy: 0.8911 - val_loss: 0.2921 - val_precision: 0.9092 - val_recall: 0.8770\n",
      "Epoch 7/20\n",
      "\u001b[1m352/352\u001b[0m \u001b[32m━━━━━━━━━━━━━━━━━━━━\u001b[0m\u001b[37m\u001b[0m \u001b[1m36s\u001b[0m 101ms/step - accuracy: 0.9066 - loss: 0.2472 - precision: 0.9215 - recall: 0.8923 - val_accuracy: 0.8953 - val_loss: 0.2837 - val_precision: 0.9116 - val_recall: 0.8834\n",
      "Epoch 8/20\n",
      "\u001b[1m352/352\u001b[0m \u001b[32m━━━━━━━━━━━━━━━━━━━━\u001b[0m\u001b[37m\u001b[0m \u001b[1m36s\u001b[0m 102ms/step - accuracy: 0.9125 - loss: 0.2340 - precision: 0.9275 - recall: 0.9006 - val_accuracy: 0.8993 - val_loss: 0.2781 - val_precision: 0.9139 - val_recall: 0.8871\n",
      "Epoch 9/20\n",
      "\u001b[1m352/352\u001b[0m \u001b[32m━━━━━━━━━━━━━━━━━━━━\u001b[0m\u001b[37m\u001b[0m \u001b[1m35s\u001b[0m 98ms/step - accuracy: 0.9215 - loss: 0.2134 - precision: 0.9339 - recall: 0.9097 - val_accuracy: 0.9023 - val_loss: 0.2726 - val_precision: 0.9155 - val_recall: 0.8915\n",
      "Epoch 10/20\n",
      "\u001b[1m352/352\u001b[0m \u001b[32m━━━━━━━━━━━━━━━━━━━━\u001b[0m\u001b[37m\u001b[0m \u001b[1m36s\u001b[0m 102ms/step - accuracy: 0.9265 - loss: 0.2006 - precision: 0.9368 - recall: 0.9160 - val_accuracy: 0.8988 - val_loss: 0.2787 - val_precision: 0.9116 - val_recall: 0.8881\n",
      "Epoch 11/20\n",
      "\u001b[1m352/352\u001b[0m \u001b[32m━━━━━━━━━━━━━━━━━━━━\u001b[0m\u001b[37m\u001b[0m \u001b[1m36s\u001b[0m 101ms/step - accuracy: 0.9308 - loss: 0.1900 - precision: 0.9408 - recall: 0.9212 - val_accuracy: 0.9007 - val_loss: 0.2764 - val_precision: 0.9119 - val_recall: 0.8920\n",
      "Epoch 12/20\n",
      "\u001b[1m352/352\u001b[0m \u001b[32m━━━━━━━━━━━━━━━━━━━━\u001b[0m\u001b[37m\u001b[0m \u001b[1m35s\u001b[0m 101ms/step - accuracy: 0.9382 - loss: 0.1723 - precision: 0.9463 - recall: 0.9291 - val_accuracy: 0.9005 - val_loss: 0.2794 - val_precision: 0.9094 - val_recall: 0.8928\n",
      "Epoch 13/20\n",
      "\u001b[1m352/352\u001b[0m \u001b[32m━━━━━━━━━━━━━━━━━━━━\u001b[0m\u001b[37m\u001b[0m \u001b[1m35s\u001b[0m 98ms/step - accuracy: 0.9365 - loss: 0.1732 - precision: 0.9446 - recall: 0.9287 - val_accuracy: 0.9073 - val_loss: 0.2720 - val_precision: 0.9161 - val_recall: 0.9000\n",
      "Epoch 14/20\n",
      "\u001b[1m352/352\u001b[0m \u001b[32m━━━━━━━━━━━━━━━━━━━━\u001b[0m\u001b[37m\u001b[0m \u001b[1m35s\u001b[0m 100ms/step - accuracy: 0.9452 - loss: 0.1498 - precision: 0.9514 - recall: 0.9379 - val_accuracy: 0.9073 - val_loss: 0.2723 - val_precision: 0.9178 - val_recall: 0.8995\n",
      "Epoch 15/20\n",
      "\u001b[1m352/352\u001b[0m \u001b[32m━━━━━━━━━━━━━━━━━━━━\u001b[0m\u001b[37m\u001b[0m \u001b[1m35s\u001b[0m 100ms/step - accuracy: 0.9489 - loss: 0.1398 - precision: 0.9552 - recall: 0.9429 - val_accuracy: 0.9099 - val_loss: 0.2674 - val_precision: 0.9179 - val_recall: 0.9045\n",
      "Epoch 16/20\n",
      "\u001b[1m352/352\u001b[0m \u001b[32m━━━━━━━━━━━━━━━━━━━━\u001b[0m\u001b[37m\u001b[0m \u001b[1m35s\u001b[0m 100ms/step - accuracy: 0.9549 - loss: 0.1264 - precision: 0.9595 - recall: 0.9504 - val_accuracy: 0.9061 - val_loss: 0.2951 - val_precision: 0.9136 - val_recall: 0.8998\n",
      "Epoch 17/20\n",
      "\u001b[1m352/352\u001b[0m \u001b[32m━━━━━━━━━━━━━━━━━━━━\u001b[0m\u001b[37m\u001b[0m \u001b[1m37s\u001b[0m 106ms/step - accuracy: 0.9585 - loss: 0.1159 - precision: 0.9627 - recall: 0.9539 - val_accuracy: 0.9047 - val_loss: 0.2984 - val_precision: 0.9119 - val_recall: 0.8993\n",
      "Epoch 18/20\n",
      "\u001b[1m352/352\u001b[0m \u001b[32m━━━━━━━━━━━━━━━━━━━━\u001b[0m\u001b[37m\u001b[0m \u001b[1m37s\u001b[0m 106ms/step - accuracy: 0.9602 - loss: 0.1098 - precision: 0.9648 - recall: 0.9563 - val_accuracy: 0.8936 - val_loss: 0.3389 - val_precision: 0.9007 - val_recall: 0.8895\n",
      "Epoch 19/20\n",
      "\u001b[1m352/352\u001b[0m \u001b[32m━━━━━━━━━━━━━━━━━━━━\u001b[0m\u001b[37m\u001b[0m \u001b[1m36s\u001b[0m 101ms/step - accuracy: 0.9626 - loss: 0.1028 - precision: 0.9659 - recall: 0.9593 - val_accuracy: 0.9055 - val_loss: 0.3131 - val_precision: 0.9109 - val_recall: 0.9012\n",
      "Epoch 20/20\n",
      "\u001b[1m352/352\u001b[0m \u001b[32m━━━━━━━━━━━━━━━━━━━━\u001b[0m\u001b[37m\u001b[0m \u001b[1m37s\u001b[0m 104ms/step - accuracy: 0.9673 - loss: 0.0912 - precision: 0.9706 - recall: 0.9645 - val_accuracy: 0.9115 - val_loss: 0.2986 - val_precision: 0.9170 - val_recall: 0.9084\n",
      "\u001b[1m313/313\u001b[0m \u001b[32m━━━━━━━━━━━━━━━━━━━━\u001b[0m\u001b[37m\u001b[0m \u001b[1m6s\u001b[0m 19ms/step - accuracy: 0.9048 - loss: 0.3545 - precision: 0.9077 - recall: 0.9007\n",
      "accuracy: 0.9070000052452087,\n",
      " precision: 0.9111469984054565,\n",
      " recall: 0.902400016784668\n"
     ]
    }
   ],
   "source": [
    "model = Model(inputs=inputs, outputs=outputs)\n",
    "model.compile(optimizer='adam',loss='categorical_crossentropy',\n",
    "              metrics=['accuracy','precision','recall'])\n",
    "\n",
    "model.fit(x_train2, y_train2, epochs=20, batch_size=128, validation_split=0.25, verbose=1)\n",
    "loss, acc, prec, rec = model.evaluate(x_test2,y_test2)\n",
    "print(f'accuracy: {acc},\\n precision: {prec},\\n recall: {rec}')"
   ]
  },
  {
   "cell_type": "code",
   "execution_count": 9,
   "id": "aea5e2a7",
   "metadata": {},
   "outputs": [
    {
     "name": "stdout",
     "output_type": "stream",
     "text": [
      "Epoch 1/20\n",
      "\u001b[1m352/352\u001b[0m \u001b[32m━━━━━━━━━━━━━━━━━━━━\u001b[0m\u001b[37m\u001b[0m \u001b[1m38s\u001b[0m 102ms/step - accuracy: 0.9784 - loss: 0.0652 - precision: 0.9802 - recall: 0.9761 - val_accuracy: 0.9115 - val_loss: 0.2982 - val_precision: 0.9170 - val_recall: 0.9091\n",
      "Epoch 2/20\n",
      "\u001b[1m352/352\u001b[0m \u001b[32m━━━━━━━━━━━━━━━━━━━━\u001b[0m\u001b[37m\u001b[0m \u001b[1m35s\u001b[0m 100ms/step - accuracy: 0.9827 - loss: 0.0545 - precision: 0.9844 - recall: 0.9812 - val_accuracy: 0.9129 - val_loss: 0.3037 - val_precision: 0.9171 - val_recall: 0.9097\n",
      "Epoch 3/20\n",
      "\u001b[1m352/352\u001b[0m \u001b[32m━━━━━━━━━━━━━━━━━━━━\u001b[0m\u001b[37m\u001b[0m \u001b[1m36s\u001b[0m 101ms/step - accuracy: 0.9858 - loss: 0.0489 - precision: 0.9871 - recall: 0.9840 - val_accuracy: 0.9085 - val_loss: 0.3195 - val_precision: 0.9132 - val_recall: 0.9059\n",
      "Epoch 4/20\n",
      "\u001b[1m352/352\u001b[0m \u001b[32m━━━━━━━━━━━━━━━━━━━━\u001b[0m\u001b[37m\u001b[0m \u001b[1m34s\u001b[0m 97ms/step - accuracy: 0.9843 - loss: 0.0484 - precision: 0.9858 - recall: 0.9830 - val_accuracy: 0.9111 - val_loss: 0.3233 - val_precision: 0.9154 - val_recall: 0.9079\n",
      "Epoch 5/20\n",
      "\u001b[1m352/352\u001b[0m \u001b[32m━━━━━━━━━━━━━━━━━━━━\u001b[0m\u001b[37m\u001b[0m \u001b[1m35s\u001b[0m 98ms/step - accuracy: 0.9855 - loss: 0.0489 - precision: 0.9867 - recall: 0.9841 - val_accuracy: 0.9129 - val_loss: 0.3179 - val_precision: 0.9167 - val_recall: 0.9101\n",
      "Epoch 6/20\n",
      "\u001b[1m352/352\u001b[0m \u001b[32m━━━━━━━━━━━━━━━━━━━━\u001b[0m\u001b[37m\u001b[0m \u001b[1m35s\u001b[0m 99ms/step - accuracy: 0.9862 - loss: 0.0442 - precision: 0.9875 - recall: 0.9851 - val_accuracy: 0.9147 - val_loss: 0.3211 - val_precision: 0.9178 - val_recall: 0.9122\n",
      "Epoch 7/20\n",
      "\u001b[1m352/352\u001b[0m \u001b[32m━━━━━━━━━━━━━━━━━━━━\u001b[0m\u001b[37m\u001b[0m \u001b[1m36s\u001b[0m 102ms/step - accuracy: 0.9872 - loss: 0.0414 - precision: 0.9884 - recall: 0.9865 - val_accuracy: 0.9113 - val_loss: 0.3369 - val_precision: 0.9161 - val_recall: 0.9087\n",
      "Epoch 8/20\n",
      "\u001b[1m352/352\u001b[0m \u001b[32m━━━━━━━━━━━━━━━━━━━━\u001b[0m\u001b[37m\u001b[0m \u001b[1m35s\u001b[0m 99ms/step - accuracy: 0.9864 - loss: 0.0423 - precision: 0.9878 - recall: 0.9855 - val_accuracy: 0.9135 - val_loss: 0.3322 - val_precision: 0.9169 - val_recall: 0.9121\n",
      "Epoch 9/20\n",
      "\u001b[1m352/352\u001b[0m \u001b[32m━━━━━━━━━━━━━━━━━━━━\u001b[0m\u001b[37m\u001b[0m \u001b[1m37s\u001b[0m 105ms/step - accuracy: 0.9879 - loss: 0.0394 - precision: 0.9889 - recall: 0.9868 - val_accuracy: 0.9132 - val_loss: 0.3380 - val_precision: 0.9159 - val_recall: 0.9107\n",
      "Epoch 10/20\n",
      "\u001b[1m352/352\u001b[0m \u001b[32m━━━━━━━━━━━━━━━━━━━━\u001b[0m\u001b[37m\u001b[0m \u001b[1m38s\u001b[0m 107ms/step - accuracy: 0.9877 - loss: 0.0406 - precision: 0.9888 - recall: 0.9866 - val_accuracy: 0.9141 - val_loss: 0.3386 - val_precision: 0.9167 - val_recall: 0.9121\n",
      "Epoch 11/20\n",
      "\u001b[1m352/352\u001b[0m \u001b[32m━━━━━━━━━━━━━━━━━━━━\u001b[0m\u001b[37m\u001b[0m \u001b[1m38s\u001b[0m 109ms/step - accuracy: 0.9884 - loss: 0.0379 - precision: 0.9895 - recall: 0.9874 - val_accuracy: 0.9129 - val_loss: 0.3409 - val_precision: 0.9161 - val_recall: 0.9109\n",
      "Epoch 12/20\n",
      "\u001b[1m352/352\u001b[0m \u001b[32m━━━━━━━━━━━━━━━━━━━━\u001b[0m\u001b[37m\u001b[0m \u001b[1m39s\u001b[0m 109ms/step - accuracy: 0.9884 - loss: 0.0373 - precision: 0.9894 - recall: 0.9873 - val_accuracy: 0.9140 - val_loss: 0.3466 - val_precision: 0.9168 - val_recall: 0.9122\n",
      "Epoch 13/20\n",
      "\u001b[1m352/352\u001b[0m \u001b[32m━━━━━━━━━━━━━━━━━━━━\u001b[0m\u001b[37m\u001b[0m \u001b[1m38s\u001b[0m 107ms/step - accuracy: 0.9889 - loss: 0.0359 - precision: 0.9897 - recall: 0.9883 - val_accuracy: 0.9145 - val_loss: 0.3468 - val_precision: 0.9181 - val_recall: 0.9127\n",
      "Epoch 14/20\n",
      "\u001b[1m352/352\u001b[0m \u001b[32m━━━━━━━━━━━━━━━━━━━━\u001b[0m\u001b[37m\u001b[0m \u001b[1m39s\u001b[0m 110ms/step - accuracy: 0.9882 - loss: 0.0369 - precision: 0.9895 - recall: 0.9874 - val_accuracy: 0.9153 - val_loss: 0.3534 - val_precision: 0.9179 - val_recall: 0.9137\n",
      "Epoch 15/20\n",
      "\u001b[1m352/352\u001b[0m \u001b[32m━━━━━━━━━━━━━━━━━━━━\u001b[0m\u001b[37m\u001b[0m \u001b[1m39s\u001b[0m 110ms/step - accuracy: 0.9887 - loss: 0.0360 - precision: 0.9895 - recall: 0.9877 - val_accuracy: 0.9147 - val_loss: 0.3562 - val_precision: 0.9166 - val_recall: 0.9129\n",
      "Epoch 16/20\n",
      "\u001b[1m352/352\u001b[0m \u001b[32m━━━━━━━━━━━━━━━━━━━━\u001b[0m\u001b[37m\u001b[0m \u001b[1m37s\u001b[0m 106ms/step - accuracy: 0.9902 - loss: 0.0346 - precision: 0.9908 - recall: 0.9893 - val_accuracy: 0.9139 - val_loss: 0.3598 - val_precision: 0.9168 - val_recall: 0.9121\n",
      "Epoch 17/20\n",
      "\u001b[1m352/352\u001b[0m \u001b[32m━━━━━━━━━━━━━━━━━━━━\u001b[0m\u001b[37m\u001b[0m \u001b[1m35s\u001b[0m 99ms/step - accuracy: 0.9902 - loss: 0.0328 - precision: 0.9907 - recall: 0.9893 - val_accuracy: 0.9141 - val_loss: 0.3619 - val_precision: 0.9164 - val_recall: 0.9124\n",
      "Epoch 18/20\n",
      "\u001b[1m352/352\u001b[0m \u001b[32m━━━━━━━━━━━━━━━━━━━━\u001b[0m\u001b[37m\u001b[0m \u001b[1m37s\u001b[0m 104ms/step - accuracy: 0.9902 - loss: 0.0336 - precision: 0.9911 - recall: 0.9894 - val_accuracy: 0.9147 - val_loss: 0.3655 - val_precision: 0.9172 - val_recall: 0.9127\n",
      "Epoch 19/20\n",
      "\u001b[1m352/352\u001b[0m \u001b[32m━━━━━━━━━━━━━━━━━━━━\u001b[0m\u001b[37m\u001b[0m \u001b[1m37s\u001b[0m 104ms/step - accuracy: 0.9911 - loss: 0.0308 - precision: 0.9919 - recall: 0.9904 - val_accuracy: 0.9133 - val_loss: 0.3718 - val_precision: 0.9161 - val_recall: 0.9120\n",
      "Epoch 20/20\n",
      "\u001b[1m352/352\u001b[0m \u001b[32m━━━━━━━━━━━━━━━━━━━━\u001b[0m\u001b[37m\u001b[0m \u001b[1m37s\u001b[0m 104ms/step - accuracy: 0.9910 - loss: 0.0312 - precision: 0.9919 - recall: 0.9902 - val_accuracy: 0.9109 - val_loss: 0.3850 - val_precision: 0.9132 - val_recall: 0.9098\n",
      "\u001b[1m313/313\u001b[0m \u001b[32m━━━━━━━━━━━━━━━━━━━━\u001b[0m\u001b[37m\u001b[0m \u001b[1m6s\u001b[0m 21ms/step - accuracy: 0.9013 - loss: 0.4573 - precision: 0.9042 - recall: 0.8995\n",
      "accuracy: 0.9039999842643738,\n",
      " precision: 0.9068248271942139,\n",
      " recall: 0.9021999835968018\n"
     ]
    }
   ],
   "source": [
    "model2 = Model(inputs=inputs, outputs=outputs)\n",
    "model2.compile(optimizer='sgd',loss='categorical_crossentropy',\n",
    "              metrics=['accuracy','precision','recall'])\n",
    "\n",
    "model2.fit(x_train2, y_train2, epochs=20, batch_size=128, validation_split=0.25, verbose=1)\n",
    "loss, acc, prec, rec = model2.evaluate(x_test2,y_test2)\n",
    "print(f'accuracy: {acc},\\n precision: {prec},\\n recall: {rec}')"
   ]
  },
  {
   "cell_type": "code",
   "execution_count": 10,
   "id": "ae43d537",
   "metadata": {},
   "outputs": [
    {
     "name": "stdout",
     "output_type": "stream",
     "text": [
      "Epoch 1/20\n",
      "\u001b[1m352/352\u001b[0m \u001b[32m━━━━━━━━━━━━━━━━━━━━\u001b[0m\u001b[37m\u001b[0m \u001b[1m41s\u001b[0m 108ms/step - accuracy: 0.9628 - loss: 0.1067 - precision: 0.9643 - recall: 0.9613 - val_accuracy: 0.8933 - val_loss: 0.4229 - val_precision: 0.8962 - val_recall: 0.8907\n",
      "Epoch 2/20\n",
      "\u001b[1m352/352\u001b[0m \u001b[32m━━━━━━━━━━━━━━━━━━━━\u001b[0m\u001b[37m\u001b[0m \u001b[1m36s\u001b[0m 101ms/step - accuracy: 0.9694 - loss: 0.0837 - precision: 0.9717 - recall: 0.9675 - val_accuracy: 0.9022 - val_loss: 0.3718 - val_precision: 0.9052 - val_recall: 0.9005\n",
      "Epoch 3/20\n",
      "\u001b[1m352/352\u001b[0m \u001b[32m━━━━━━━━━━━━━━━━━━━━\u001b[0m\u001b[37m\u001b[0m \u001b[1m36s\u001b[0m 101ms/step - accuracy: 0.9720 - loss: 0.0755 - precision: 0.9743 - recall: 0.9706 - val_accuracy: 0.8995 - val_loss: 0.3957 - val_precision: 0.9032 - val_recall: 0.8978\n",
      "Epoch 4/20\n",
      "\u001b[1m352/352\u001b[0m \u001b[32m━━━━━━━━━━━━━━━━━━━━\u001b[0m\u001b[37m\u001b[0m \u001b[1m35s\u001b[0m 100ms/step - accuracy: 0.9763 - loss: 0.0659 - precision: 0.9777 - recall: 0.9749 - val_accuracy: 0.9021 - val_loss: 0.3875 - val_precision: 0.9066 - val_recall: 0.9004\n",
      "Epoch 5/20\n",
      "\u001b[1m352/352\u001b[0m \u001b[32m━━━━━━━━━━━━━━━━━━━━\u001b[0m\u001b[37m\u001b[0m \u001b[1m37s\u001b[0m 105ms/step - accuracy: 0.9756 - loss: 0.0651 - precision: 0.9770 - recall: 0.9742 - val_accuracy: 0.9003 - val_loss: 0.4269 - val_precision: 0.9036 - val_recall: 0.8982\n",
      "Epoch 6/20\n",
      "\u001b[1m352/352\u001b[0m \u001b[32m━━━━━━━━━━━━━━━━━━━━\u001b[0m\u001b[37m\u001b[0m \u001b[1m41s\u001b[0m 106ms/step - accuracy: 0.9785 - loss: 0.0587 - precision: 0.9794 - recall: 0.9777 - val_accuracy: 0.8985 - val_loss: 0.4029 - val_precision: 0.9006 - val_recall: 0.8961\n",
      "Epoch 7/20\n",
      "\u001b[1m352/352\u001b[0m \u001b[32m━━━━━━━━━━━━━━━━━━━━\u001b[0m\u001b[37m\u001b[0m \u001b[1m39s\u001b[0m 110ms/step - accuracy: 0.9809 - loss: 0.0546 - precision: 0.9822 - recall: 0.9798 - val_accuracy: 0.9066 - val_loss: 0.3904 - val_precision: 0.9112 - val_recall: 0.9041\n",
      "Epoch 8/20\n",
      "\u001b[1m352/352\u001b[0m \u001b[32m━━━━━━━━━━━━━━━━━━━━\u001b[0m\u001b[37m\u001b[0m \u001b[1m36s\u001b[0m 102ms/step - accuracy: 0.9816 - loss: 0.0489 - precision: 0.9828 - recall: 0.9808 - val_accuracy: 0.9023 - val_loss: 0.4310 - val_precision: 0.9056 - val_recall: 0.9008\n",
      "Epoch 9/20\n",
      "\u001b[1m352/352\u001b[0m \u001b[32m━━━━━━━━━━━━━━━━━━━━\u001b[0m\u001b[37m\u001b[0m \u001b[1m37s\u001b[0m 106ms/step - accuracy: 0.9853 - loss: 0.0444 - precision: 0.9861 - recall: 0.9847 - val_accuracy: 0.9041 - val_loss: 0.4235 - val_precision: 0.9067 - val_recall: 0.9023\n",
      "Epoch 10/20\n",
      "\u001b[1m352/352\u001b[0m \u001b[32m━━━━━━━━━━━━━━━━━━━━\u001b[0m\u001b[37m\u001b[0m \u001b[1m39s\u001b[0m 110ms/step - accuracy: 0.9850 - loss: 0.0410 - precision: 0.9857 - recall: 0.9844 - val_accuracy: 0.9030 - val_loss: 0.4854 - val_precision: 0.9047 - val_recall: 0.9018\n",
      "Epoch 11/20\n",
      "\u001b[1m352/352\u001b[0m \u001b[32m━━━━━━━━━━━━━━━━━━━━\u001b[0m\u001b[37m\u001b[0m \u001b[1m37s\u001b[0m 104ms/step - accuracy: 0.9855 - loss: 0.0397 - precision: 0.9859 - recall: 0.9852 - val_accuracy: 0.9003 - val_loss: 0.4779 - val_precision: 0.9035 - val_recall: 0.8987\n",
      "Epoch 12/20\n",
      "\u001b[1m352/352\u001b[0m \u001b[32m━━━━━━━━━━━━━━━━━━━━\u001b[0m\u001b[37m\u001b[0m \u001b[1m38s\u001b[0m 108ms/step - accuracy: 0.9855 - loss: 0.0394 - precision: 0.9860 - recall: 0.9849 - val_accuracy: 0.9097 - val_loss: 0.4784 - val_precision: 0.9116 - val_recall: 0.9087\n",
      "Epoch 13/20\n",
      "\u001b[1m352/352\u001b[0m \u001b[32m━━━━━━━━━━━━━━━━━━━━\u001b[0m\u001b[37m\u001b[0m \u001b[1m40s\u001b[0m 112ms/step - accuracy: 0.9880 - loss: 0.0355 - precision: 0.9883 - recall: 0.9875 - val_accuracy: 0.9003 - val_loss: 0.5746 - val_precision: 0.9018 - val_recall: 0.8992\n",
      "Epoch 14/20\n",
      "\u001b[1m352/352\u001b[0m \u001b[32m━━━━━━━━━━━━━━━━━━━━\u001b[0m\u001b[37m\u001b[0m \u001b[1m37s\u001b[0m 105ms/step - accuracy: 0.9878 - loss: 0.0331 - precision: 0.9883 - recall: 0.9875 - val_accuracy: 0.8977 - val_loss: 0.5502 - val_precision: 0.8998 - val_recall: 0.8965\n",
      "Epoch 15/20\n",
      "\u001b[1m352/352\u001b[0m \u001b[32m━━━━━━━━━━━━━━━━━━━━\u001b[0m\u001b[37m\u001b[0m \u001b[1m40s\u001b[0m 114ms/step - accuracy: 0.9883 - loss: 0.0333 - precision: 0.9886 - recall: 0.9880 - val_accuracy: 0.8949 - val_loss: 0.5646 - val_precision: 0.8967 - val_recall: 0.8937\n",
      "Epoch 16/20\n",
      "\u001b[1m352/352\u001b[0m \u001b[32m━━━━━━━━━━━━━━━━━━━━\u001b[0m\u001b[37m\u001b[0m \u001b[1m38s\u001b[0m 108ms/step - accuracy: 0.9901 - loss: 0.0305 - precision: 0.9904 - recall: 0.9898 - val_accuracy: 0.9068 - val_loss: 0.5578 - val_precision: 0.9089 - val_recall: 0.9059\n",
      "Epoch 17/20\n",
      "\u001b[1m352/352\u001b[0m \u001b[32m━━━━━━━━━━━━━━━━━━━━\u001b[0m\u001b[37m\u001b[0m \u001b[1m38s\u001b[0m 109ms/step - accuracy: 0.9894 - loss: 0.0308 - precision: 0.9897 - recall: 0.9892 - val_accuracy: 0.9037 - val_loss: 0.5716 - val_precision: 0.9052 - val_recall: 0.9033\n",
      "Epoch 18/20\n",
      "\u001b[1m352/352\u001b[0m \u001b[32m━━━━━━━━━━━━━━━━━━━━\u001b[0m\u001b[37m\u001b[0m \u001b[1m42s\u001b[0m 118ms/step - accuracy: 0.9891 - loss: 0.0302 - precision: 0.9894 - recall: 0.9889 - val_accuracy: 0.9079 - val_loss: 0.5791 - val_precision: 0.9093 - val_recall: 0.9073\n",
      "Epoch 19/20\n",
      "\u001b[1m352/352\u001b[0m \u001b[32m━━━━━━━━━━━━━━━━━━━━\u001b[0m\u001b[37m\u001b[0m \u001b[1m36s\u001b[0m 103ms/step - accuracy: 0.9906 - loss: 0.0272 - precision: 0.9909 - recall: 0.9905 - val_accuracy: 0.9027 - val_loss: 0.5992 - val_precision: 0.9039 - val_recall: 0.9019\n",
      "Epoch 20/20\n",
      "\u001b[1m352/352\u001b[0m \u001b[32m━━━━━━━━━━━━━━━━━━━━\u001b[0m\u001b[37m\u001b[0m \u001b[1m39s\u001b[0m 111ms/step - accuracy: 0.9920 - loss: 0.0236 - precision: 0.9923 - recall: 0.9918 - val_accuracy: 0.9072 - val_loss: 0.5878 - val_precision: 0.9080 - val_recall: 0.9061\n",
      "\u001b[1m313/313\u001b[0m \u001b[32m━━━━━━━━━━━━━━━━━━━━\u001b[0m\u001b[37m\u001b[0m \u001b[1m6s\u001b[0m 19ms/step - accuracy: 0.9020 - loss: 0.6385 - precision: 0.9032 - recall: 0.9015\n",
      "accuracy: 0.9060999751091003,\n",
      " precision: 0.9072960615158081,\n",
      " recall: 0.9053000211715698\n"
     ]
    }
   ],
   "source": [
    "model3 = Model(inputs=inputs, outputs=outputs)\n",
    "model3.compile(optimizer='rmsprop',loss='categorical_crossentropy',\n",
    "              metrics=['accuracy','precision','recall'])\n",
    "\n",
    "model3.fit(x_train2, y_train2, epochs=20, batch_size=128, validation_split=0.25, verbose=1)\n",
    "loss, acc, prec, rec = model3.evaluate(x_test2,y_test2)\n",
    "print(f'accuracy: {acc},\\n precision: {prec},\\n recall: {rec}')"
   ]
  }
 ],
 "metadata": {
  "kernelspec": {
   "display_name": ".venv",
   "language": "python",
   "name": "python3"
  },
  "language_info": {
   "codemirror_mode": {
    "name": "ipython",
    "version": 3
   },
   "file_extension": ".py",
   "mimetype": "text/x-python",
   "name": "python",
   "nbconvert_exporter": "python",
   "pygments_lexer": "ipython3",
   "version": "3.10.12"
  }
 },
 "nbformat": 4,
 "nbformat_minor": 5
}
